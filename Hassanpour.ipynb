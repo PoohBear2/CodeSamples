{
 "cells": [
  {
   "cell_type": "code",
   "execution_count": 14,
   "id": "ad08bb97",
   "metadata": {},
   "outputs": [],
   "source": [
    "from os.path import basename\n",
    "from pathlib import Path\n",
    "from PIL import Image\n",
    "import random\n",
    "import traceback\n",
    "\n",
    "from openslide import OpenSlide\n"
   ]
  },
  {
   "cell_type": "code",
   "execution_count": 8,
   "id": "9901b2b7",
   "metadata": {},
   "outputs": [],
   "source": []
  },
  {
   "cell_type": "code",
   "execution_count": 16,
   "id": "1cbc18e7",
   "metadata": {},
   "outputs": [
    {
     "name": "stdout",
     "output_type": "stream",
     "text": [
      "Processing: /Users/jerryzhou/Documents/newSlides/Chromophobe/TCGA-KN-8425-01Z-00-DX1.1D2AB7D2-6AC3-4785-9FBC-40AEED5DE558.svs\n"
     ]
    },
    {
     "name": "stderr",
     "output_type": "stream",
     "text": [
      "/var/folders/tr/46bsjkx54kb5g9lbrndndnhm0000gn/T/ipykernel_4810/963805494.py:10: DeprecationWarning: LANCZOS is deprecated and will be removed in Pillow 10 (2023-07-01). Use Resampling.LANCZOS instead.\n",
      "  color = img.convert('RGB').resize((1, 1), Image.LANCZOS).getpixel((0, 0))\n"
     ]
    },
    {
     "name": "stdout",
     "output_type": "stream",
     "text": [
      "Processing: /Users/jerryzhou/Documents/newSlides/Chromophobe/TCGA-KM-A7QI-01Z-00-DX1.D5284A3E-891C-4750-BE93-C09C7F23C95C.svs\n",
      "Folder exists: already processed\n",
      "Processing: /Users/jerryzhou/Documents/newSlides/Chromophobe/TCGA-KL-8329-01Z-00-DX1.6c9000ef-34ff-4e44-84b3-755a868f6a4e.svs\n",
      "Folder exists: already processed\n"
     ]
    }
   ],
   "source": [
    "'''\n",
    "This script is to generate test patches for the tcga slides.\n",
    "'''\n",
    "\n",
    "\n",
    "\n",
    "def is_tissue(img):\n",
    "    \"\"\"Checking if it's purple crop.\n",
    "    \"\"\"\n",
    "    color = img.convert('RGB').resize((1, 1), Image.LANCZOS).getpixel((0, 0))\n",
    "    r = color[0] / 255\n",
    "    g = color[1] / 255\n",
    "    b = color[2] / 255\n",
    "    return r > g*1.1 and b > g*1.1 and (r+b)/2 > 0.5\n",
    "\n",
    "\n",
    "def extract_patches(image_path, output_path, target_level=0, output_size=[256, 256], stride=128,exist_ok=True):\n",
    "    \"\"\" Extract tissue patches from a slide image (.tif) and put them\n",
    "    in /pos and /neg directories based on overlap with annotation masks.\n",
    "    Args:\n",
    "        exist_ok: overwrite if output folder already exists. (For resuming task, set False (default).)\n",
    "    \"\"\"\n",
    "    img = OpenSlide(image_path)\n",
    "    size_original = img.level_dimensions[0]\n",
    "    size = img.level_dimensions[target_level]\n",
    "    ds_factor = img.level_downsamples[target_level]\n",
    "    stride_adjusted = int(stride*ds_factor)\n",
    "\n",
    "    op = img.properties.get('openslide.objective-power')\n",
    "    if op == '20':\n",
    "        stride_adjusted = int(stride_adjusted//2)\n",
    "        output_size = [int(s//2) for s in output_size]\n",
    "    elif op == '40':\n",
    "        pass\n",
    "    else:\n",
    "        print(f\"Warning: Irregular objective-power {op} in {image_path}\")\n",
    "\n",
    "    output_size_at_0 = [s*ds_factor for s in output_size]\n",
    "    image_basename = basename(image_path).split('.')[0].lower()\n",
    "    num_cols = int(size_original[0] // (stride_adjusted))  # X\n",
    "    num_rows = int(size_original[1] // (stride_adjusted))  # Y\n",
    "\n",
    "    for r in range(num_rows):\n",
    "        for c in range(num_cols):\n",
    "            top_left = (c*stride_adjusted, r*stride_adjusted)\n",
    "            patch = img.read_region(top_left, target_level, output_size).convert('RGB')\n",
    "            if is_tissue(patch):\n",
    "                patch.save('{}/{}_{}_{}.png'.format(output_path,image_basename, *top_left))\n",
    "\n",
    "\n",
    "if __name__ == '__main__':\n",
    "    \"\"\"Extract patches using OpenSlide\n",
    "    \"\"\"\n",
    "\n",
    "    #TODO: Set Paths\n",
    "    #Assumption: wsi/<partition>/<class>/<images>.svs\n",
    "    wsi_dir = Path(\"/Users/jerryzhou/Documents/newSlides\")\n",
    "\n",
    "    output_path_root = Path(\n",
    "        \"/Users/jerryzhou/Downloads/OutputSlides\")\n",
    "\n",
    "    #TODO: Set Parameters\n",
    "\n",
    "    target_level = 0\n",
    "    output_size = [256, 256]\n",
    "    stride = 128\n",
    "    for slide_path in wsi_dir.rglob(\"*.svs\"):\n",
    "        class_name = slide_path.parent.name\n",
    "        partition = slide_path.parents[1].name\n",
    "        slide_name = slide_path.stem.split('.')[0]\n",
    "\n",
    "        output_path = output_path_root / partition / class_name / slide_name\n",
    "        output_path.mkdir(parents=True, exist_ok=True)\n",
    "\n",
    "        print(\"Processing: {}\".format(slide_path))\n",
    "        try:\n",
    "            extract_patches(\n",
    "                image_path=slide_path,\n",
    "                output_path=str(output_path.absolute()),\n",
    "                target_level=target_level,\n",
    "                output_size=output_size,\n",
    "                stride=stride,\n",
    "                exist_ok=False)\n",
    "        except OSError:\n",
    "            print(\"Folder exists: already processed\")\n",
    "        except Exception as e:\n",
    "            print(traceback.print_exc())\n",
    "        "
   ]
  },
  {
   "cell_type": "code",
   "execution_count": null,
   "id": "38a1b31a",
   "metadata": {},
   "outputs": [],
   "source": []
  },
  {
   "cell_type": "code",
   "execution_count": null,
   "id": "32fed811",
   "metadata": {},
   "outputs": [],
   "source": []
  },
  {
   "cell_type": "code",
   "execution_count": null,
   "id": "de4341fc",
   "metadata": {},
   "outputs": [],
   "source": []
  }
 ],
 "metadata": {
  "kernelspec": {
   "display_name": "Python 3 (ipykernel)",
   "language": "python",
   "name": "python3"
  },
  "language_info": {
   "codemirror_mode": {
    "name": "ipython",
    "version": 3
   },
   "file_extension": ".py",
   "mimetype": "text/x-python",
   "name": "python",
   "nbconvert_exporter": "python",
   "pygments_lexer": "ipython3",
   "version": "3.9.13"
  }
 },
 "nbformat": 4,
 "nbformat_minor": 5
}
